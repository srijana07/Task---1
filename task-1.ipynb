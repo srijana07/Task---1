{
 "cells": [
  {
   "cell_type": "code",
   "execution_count": 1,
   "id": "e08380f7",
   "metadata": {},
   "outputs": [
    {
     "name": "stdout",
     "output_type": "stream",
     "text": [
      "75\n",
      "-15\n",
      "1350\n",
      "0.6666666666666666\n"
     ]
    }
   ],
   "source": [
    "a=30\n",
    "b=45\n",
    "add=(a+b)\n",
    "sub=(a-b)\n",
    "mul=(a*b)\n",
    "divide=(a/b)\n",
    "print(add)\n",
    "print(sub)\n",
    "print(mul)\n",
    "print(divide)"
   ]
  },
  {
   "cell_type": "code",
   "execution_count": 2,
   "id": "7626d048",
   "metadata": {},
   "outputs": [
    {
     "data": {
      "text/plain": [
       "12"
      ]
     },
     "execution_count": 2,
     "metadata": {},
     "output_type": "execute_result"
    }
   ],
   "source": [
    "len('srijanasubba')"
   ]
  },
  {
   "cell_type": "code",
   "execution_count": 3,
   "id": "647226b6",
   "metadata": {},
   "outputs": [
    {
     "name": "stdout",
     "output_type": "stream",
     "text": [
      "264\n"
     ]
    }
   ],
   "source": [
    "width=22\n",
    "height=12\n",
    "area=width*height\n",
    "print(area)"
   ]
  },
  {
   "cell_type": "code",
   "execution_count": null,
   "id": "4daa5233",
   "metadata": {},
   "outputs": [],
   "source": []
  }
 ],
 "metadata": {
  "kernelspec": {
   "display_name": "Python 3 (ipykernel)",
   "language": "python",
   "name": "python3"
  },
  "language_info": {
   "codemirror_mode": {
    "name": "ipython",
    "version": 3
   },
   "file_extension": ".py",
   "mimetype": "text/x-python",
   "name": "python",
   "nbconvert_exporter": "python",
   "pygments_lexer": "ipython3",
   "version": "3.9.12"
  }
 },
 "nbformat": 4,
 "nbformat_minor": 5
}
